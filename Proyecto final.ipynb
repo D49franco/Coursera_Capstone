{
 "cells": [
  {
   "cell_type": "code",
   "execution_count": null,
   "id": "c01780c6",
   "metadata": {},
   "outputs": [],
   "source": [
    "#En este cuadernos se hará el trabajo principal del proyecto final"
   ]
  },
  {
   "cell_type": "code",
   "execution_count": 1,
   "id": "07d65632",
   "metadata": {},
   "outputs": [
    {
     "name": "stdout",
     "output_type": "stream",
     "text": [
      "¡Hola, Proyecto Final del Curso!\n"
     ]
    }
   ],
   "source": [
    "import pandas as pd\n",
    "import numpy as np\n",
    "print(\"¡Hola, Proyecto Final del Curso!\")"
   ]
  },
  {
   "cell_type": "markdown",
   "id": "1e16e826",
   "metadata": {},
   "source": [
    "# Introducción - planteamiento del problema"
   ]
  },
  {
   "cell_type": "markdown",
   "id": "8f22bd49",
   "metadata": {},
   "source": [
    "## Problema"
   ]
  },
  {
   "cell_type": "markdown",
   "id": "0586fad9",
   "metadata": {},
   "source": [
    "Se pretende responder la siguiente pregunta: ¿en qué zona de Toronto es mejor colocar un gimnasio?"
   ]
  },
  {
   "cell_type": "markdown",
   "id": "305f9152",
   "metadata": {},
   "source": [
    "## Público objetivo"
   ]
  },
  {
   "cell_type": "markdown",
   "id": "691f61ba",
   "metadata": {},
   "source": [
    "Un emprendedor tiene el capital para colocar un gimnasio en cualquier parte de Toronto, por ello me contrata para determinar la mejor ubicación de éste, en aras de cubrir la demanda insatisfecha en la zona."
   ]
  },
  {
   "cell_type": "markdown",
   "id": "68cd1269",
   "metadata": {},
   "source": [
    "## Criterio de colocación"
   ]
  },
  {
   "cell_type": "markdown",
   "id": "00cbc8b9",
   "metadata": {},
   "source": [
    "El gimnasio deberá ser colocado en la zona donde menos gimnasios hallan."
   ]
  },
  {
   "cell_type": "markdown",
   "id": "0de35724",
   "metadata": {},
   "source": [
    "## Metodología"
   ]
  },
  {
   "cell_type": "markdown",
   "id": "0065efd9",
   "metadata": {},
   "source": [
    "1. Con los datos de Foursquare de Toronto se hallaran los locales que hay en cada zona marcada por el código postal.\n",
    "2. Se verificarán cuántos gimnasios hay en cada zona y se creará una tabla con todos ellos.\n",
    "3. Se marcarán esos gimnasios en el mapa.\n",
    "4. Se creará un radio de influencia de cada gimnasio correspondiente a una medida de radio de 20.\n",
    "5. Se mirará en que zona hay menos influencia de gimnasios."
   ]
  },
  {
   "cell_type": "markdown",
   "id": "60c45a51",
   "metadata": {},
   "source": [
    "## Datos usados"
   ]
  },
  {
   "cell_type": "markdown",
   "id": "605fbd56",
   "metadata": {},
   "source": [
    "Los datos que se usarán son netamente los brindados por Foursquare, por cuanto tiene todo el repositorio de locales con \n",
    "su ubicación que permiten determinar la conveniencia geográfica de la puesta en marcha de un gimnasio en determinada zona."
   ]
  }
 ],
 "metadata": {
  "kernelspec": {
   "display_name": "Python 3",
   "language": "python",
   "name": "python3"
  },
  "language_info": {
   "codemirror_mode": {
    "name": "ipython",
    "version": 3
   },
   "file_extension": ".py",
   "mimetype": "text/x-python",
   "name": "python",
   "nbconvert_exporter": "python",
   "pygments_lexer": "ipython3",
   "version": "3.8.8"
  }
 },
 "nbformat": 4,
 "nbformat_minor": 5
}
